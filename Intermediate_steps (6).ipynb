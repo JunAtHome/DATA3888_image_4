{
 "cells": [
  {
   "cell_type": "markdown",
   "metadata": {
    "colab": {
     "base_uri": "https://localhost:8080/"
    },
    "id": "yurfCZkV2Dvf",
    "outputId": "03229088-881e-4bbc-adbc-4cbcf934b3d6"
   },
   "source": [
    "from google.colab import drive\n",
    "drive.mount('/content/drive')"
   ]
  },
  {
   "cell_type": "markdown",
   "metadata": {},
   "source": [
    "-Clean - whole split "
   ]
  },
  {
   "cell_type": "code",
   "execution_count": 3,
   "metadata": {},
   "outputs": [],
   "source": [
    "import pandas as pd"
   ]
  },
  {
   "cell_type": "code",
   "execution_count": 2,
   "metadata": {},
   "outputs": [
    {
     "name": "stdout",
     "output_type": "stream",
     "text": [
      "Found 23397 images belonging to 28 classes.\n",
      "Found 5836 images belonging to 28 classes.\n"
     ]
    },
    {
     "name": "stderr",
     "output_type": "stream",
     "text": [
      "2023-05-06 10:12:25.981249: I tensorflow/core/platform/cpu_feature_guard.cc:151] This TensorFlow binary is optimized with oneAPI Deep Neural Network Library (oneDNN) to use the following CPU instructions in performance-critical operations:  AVX2 AVX512F FMA\n",
      "To enable them in other operations, rebuild TensorFlow with the appropriate compiler flags.\n",
      "2023-05-06 10:12:26.633559: I tensorflow/core/common_runtime/gpu/gpu_device.cc:1525] Created device /job:localhost/replica:0/task:0/device:GPU:0 with 22307 MB memory:  -> device: 0, name: NVIDIA GeForce RTX 3090, pci bus id: 0000:1a:00.0, compute capability: 8.6\n"
     ]
    },
    {
     "name": "stdout",
     "output_type": "stream",
     "text": [
      "Downloading data from https://storage.googleapis.com/tensorflow/keras-applications/resnet/resnet50v2_weights_tf_dim_ordering_tf_kernels_notop.h5\n",
      "94674944/94668760 [==============================] - 8s 0us/step\n",
      "94683136/94668760 [==============================] - 8s 0us/step\n",
      "Epoch 1/15\n"
     ]
    },
    {
     "name": "stderr",
     "output_type": "stream",
     "text": [
      "2023-05-06 10:12:48.474361: I tensorflow/stream_executor/cuda/cuda_dnn.cc:366] Loaded cuDNN version 8101\n",
      "2023-05-06 10:12:50.746823: I tensorflow/stream_executor/cuda/cuda_blas.cc:1774] TensorFloat-32 will be used for the matrix multiplication. This will only be logged once.\n"
     ]
    },
    {
     "name": "stdout",
     "output_type": "stream",
     "text": [
      "182/182 [==============================] - 940s 5s/step - loss: 3.0222 - accuracy: 0.1369 - val_loss: 2.9226 - val_accuracy: 0.1503\n",
      "Epoch 2/15\n",
      "182/182 [==============================] - 540s 3s/step - loss: 2.9004 - accuracy: 0.1665 - val_loss: 2.9016 - val_accuracy: 0.1538\n",
      "Epoch 3/15\n",
      "182/182 [==============================] - 522s 3s/step - loss: 2.8621 - accuracy: 0.1763 - val_loss: 2.8736 - val_accuracy: 0.1549\n",
      "Epoch 4/15\n",
      "182/182 [==============================] - 523s 3s/step - loss: 2.8439 - accuracy: 0.1802 - val_loss: 2.8841 - val_accuracy: 0.1595\n",
      "Epoch 5/15\n",
      "182/182 [==============================] - 500s 3s/step - loss: 2.8278 - accuracy: 0.1842 - val_loss: 2.8676 - val_accuracy: 0.1637\n",
      "Epoch 6/15\n",
      "182/182 [==============================] - 493s 3s/step - loss: 2.8190 - accuracy: 0.1884 - val_loss: 2.8451 - val_accuracy: 0.1660\n",
      "Epoch 7/15\n",
      "182/182 [==============================] - 506s 3s/step - loss: 2.8084 - accuracy: 0.1890 - val_loss: 2.8441 - val_accuracy: 0.1696\n",
      "Epoch 8/15\n",
      "182/182 [==============================] - 527s 3s/step - loss: 2.8018 - accuracy: 0.1917 - val_loss: 2.8208 - val_accuracy: 0.1710\n",
      "Epoch 9/15\n",
      "182/182 [==============================] - 525s 3s/step - loss: 2.7928 - accuracy: 0.1934 - val_loss: 2.8506 - val_accuracy: 0.1795\n",
      "Epoch 10/15\n",
      "182/182 [==============================] - 559s 3s/step - loss: 2.7864 - accuracy: 0.1930 - val_loss: 2.8431 - val_accuracy: 0.1660\n",
      "Epoch 11/15\n",
      "182/182 [==============================] - 520s 3s/step - loss: 2.7801 - accuracy: 0.1958 - val_loss: 2.8471 - val_accuracy: 0.1736\n",
      "Epoch 12/15\n",
      "182/182 [==============================] - 510s 3s/step - loss: 2.7705 - accuracy: 0.1979 - val_loss: 2.8372 - val_accuracy: 0.1790\n",
      "Epoch 13/15\n",
      "182/182 [==============================] - 505s 3s/step - loss: 2.7674 - accuracy: 0.1991 - val_loss: 2.8660 - val_accuracy: 0.1694\n",
      "Epoch 14/15\n",
      "182/182 [==============================] - 500s 3s/step - loss: 2.7635 - accuracy: 0.1982 - val_loss: 2.8321 - val_accuracy: 0.1759\n",
      "Epoch 15/15\n",
      "182/182 [==============================] - 473s 3s/step - loss: 2.7558 - accuracy: 0.2030 - val_loss: 2.8458 - val_accuracy: 0.1785\n"
     ]
    },
    {
     "name": "stderr",
     "output_type": "stream",
     "text": [
      "/root/miniconda3/envs/myconda/lib/python3.8/site-packages/keras/engine/functional.py:1410: CustomMaskWarning: Custom mask layers require a config and must override get_config. When loading, the custom mask layer must be passed to the custom_objects argument.\n",
      "  layer_config = serialize_layer_fn(layer)\n"
     ]
    },
    {
     "ename": "NameError",
     "evalue": "name 'pd' is not defined",
     "output_type": "error",
     "traceback": [
      "\u001b[0;31m---------------------------------------------------------------------------\u001b[0m",
      "\u001b[0;31mNameError\u001b[0m                                 Traceback (most recent call last)",
      "\u001b[0;32m/tmp/ipykernel_116/2215190393.py\u001b[0m in \u001b[0;36m<module>\u001b[0;34m\u001b[0m\n\u001b[1;32m    101\u001b[0m \u001b[0;34m\u001b[0m\u001b[0m\n\u001b[1;32m    102\u001b[0m \u001b[0;31m# Save the training data to a CSV file\u001b[0m\u001b[0;34m\u001b[0m\u001b[0;34m\u001b[0m\u001b[0;34m\u001b[0m\u001b[0m\n\u001b[0;32m--> 103\u001b[0;31m training_data = pd.DataFrame({\n\u001b[0m\u001b[1;32m    104\u001b[0m     \u001b[0;34m'epoch'\u001b[0m\u001b[0;34m:\u001b[0m \u001b[0mnp\u001b[0m\u001b[0;34m.\u001b[0m\u001b[0marange\u001b[0m\u001b[0;34m(\u001b[0m\u001b[0;36m1\u001b[0m\u001b[0;34m,\u001b[0m \u001b[0mlen\u001b[0m\u001b[0;34m(\u001b[0m\u001b[0mhistory\u001b[0m\u001b[0;34m.\u001b[0m\u001b[0mhistory\u001b[0m\u001b[0;34m[\u001b[0m\u001b[0;34m'accuracy'\u001b[0m\u001b[0;34m]\u001b[0m\u001b[0;34m)\u001b[0m \u001b[0;34m+\u001b[0m \u001b[0;36m1\u001b[0m\u001b[0;34m)\u001b[0m\u001b[0;34m,\u001b[0m\u001b[0;34m\u001b[0m\u001b[0;34m\u001b[0m\u001b[0m\n\u001b[1;32m    105\u001b[0m     \u001b[0;34m'train_accuracy'\u001b[0m\u001b[0;34m:\u001b[0m \u001b[0mhistory\u001b[0m\u001b[0;34m.\u001b[0m\u001b[0mhistory\u001b[0m\u001b[0;34m[\u001b[0m\u001b[0;34m'accuracy'\u001b[0m\u001b[0;34m]\u001b[0m\u001b[0;34m,\u001b[0m\u001b[0;34m\u001b[0m\u001b[0;34m\u001b[0m\u001b[0m\n",
      "\u001b[0;31mNameError\u001b[0m: name 'pd' is not defined"
     ]
    }
   ],
   "source": [
    "import os\n",
    "import pandas as pd\n",
    "import numpy as np\n",
    "from tensorflow.keras import layers\n",
    "from tensorflow.keras.models import Sequential\n",
    "import tensorflow as tf\n",
    "from tensorflow.keras import layers, models\n",
    "from tensorflow.keras.applications import ResNet50V2\n",
    "from tensorflow.keras.preprocessing.image import ImageDataGenerator\n",
    "\n",
    "# Define the custom object ClassToken\n",
    "class ClassToken(layers.Layer):\n",
    "    def __init__(self, **kwargs):\n",
    "        super(ClassToken, self).__init__(**kwargs)\n",
    "\n",
    "    def build(self, input_shape):\n",
    "        self.class_token = self.add_weight(\n",
    "            shape=(1, 1, input_shape[3]),\n",
    "            initializer=tf.keras.initializers.TruncatedNormal(stddev=0.02),\n",
    "            trainable=True,\n",
    "            name=\"class_token\",\n",
    "        )\n",
    "        super(ClassToken, self).build(input_shape)\n",
    "\n",
    "    def call(self, x):\n",
    "        batch_size = tf.shape(x)[0]\n",
    "        # Add a class token\n",
    "        class_token = tf.broadcast_to(self.class_token, [batch_size, 1, 1, tf.shape(self.class_token)[2]])\n",
    "        x = tf.concat([class_token, x], axis=1)\n",
    "        return x\n",
    "\n",
    "train_dir = 'train_cluster_cleaned'\n",
    "\n",
    "train_datagen = ImageDataGenerator(\n",
    "     rescale=1./255,\n",
    "    validation_split=0.2,\n",
    "    rotation_range=30,\n",
    "    width_shift_range=0.2,\n",
    "    height_shift_range=0.2,\n",
    "    shear_range=0.2,\n",
    "    zoom_range=0.2,\n",
    "    horizontal_flip=True,\n",
    "    vertical_flip=True,\n",
    "    fill_mode='nearest'\n",
    ")\n",
    "\n",
    "train_generator = train_datagen.flow_from_directory(\n",
    "    train_dir,\n",
    "    target_size=(224, 224),\n",
    "    batch_size=128,\n",
    "    class_mode='categorical',\n",
    "    subset='training'\n",
    ")\n",
    "\n",
    "validation_generator = train_datagen.flow_from_directory(\n",
    "    train_dir,\n",
    "    target_size=(224, 224),\n",
    "    batch_size=128,\n",
    "    class_mode='categorical',\n",
    "    subset='validation'\n",
    ")\n",
    "\n",
    "# Load the pre-trained ResNet50V2 model without the top layer (global average pooling and fully connected layers)\n",
    "base_model = ResNet50V2(include_top=False, weights='imagenet', input_shape=(224, 224, 3))\n",
    "\n",
    "# Freeze the top layers\n",
    "for layer in base_model.layers:\n",
    "    layer.trainable = False\n",
    "\n",
    "# Unfreeze the last few convolutional layers and the batch normalization layers\n",
    "for layer in base_model.layers[-15:]:\n",
    "    if not isinstance(layer, layers.BatchNormalization):\n",
    "        layer.trainable = True\n",
    "\n",
    "# Add new top layers for the new dataset\n",
    "x = base_model.output\n",
    "x = layers.GlobalAveragePooling2D()(x)\n",
    "x = layers.Dense(256, activation='relu')(x)\n",
    "predictions = layers.Dense(train_generator.num_classes, activation='softmax')(x)\n",
    "\n",
    "# Create the new model by combining the base model and the top layers\n",
    "model = models.Model(inputs=base_model.input, outputs=predictions)\n",
    "\n",
    "# Compile the model\n",
    "model.compile(optimizer='adam', loss='categorical_crossentropy', metrics=['accuracy'])\n",
    "\n",
    "# Train the model\n",
    "history = model.fit(\n",
    "    train_generator,\n",
    "    steps_per_epoch=train_generator.samples // train_generator.batch_size,\n",
    "    validation_data=validation_generator,\n",
    "    validation_steps=validation_generator.samples // validation_generator.batch_size,\n",
    "    epochs=15\n",
    ")\n",
    "\n",
    "model.save(\"resnet_clean_whole.h5\")"
   ]
  },
  {
   "cell_type": "code",
   "execution_count": 4,
   "metadata": {},
   "outputs": [],
   "source": [
    "# Create the output_csv folder if it doesn't exist\n",
    "output_folder = \"output_Image4_csv\"\n",
    "if not os.path.exists(output_folder):\n",
    "    os.makedirs(output_folder)\n",
    "\n",
    "# Save the training data to a CSV file\n",
    "training_data = pd.DataFrame({\n",
    "    'epoch': np.arange(1, len(history.history['accuracy']) + 1),\n",
    "    'train_accuracy': history.history['accuracy'],\n",
    "    'validation_accuracy': history.history['val_accuracy'],\n",
    "    'loss': history.history['loss'],\n",
    "    'validation_loss': history.history['val_loss']\n",
    "})\n",
    "training_data.to_csv(os.path.join(output_folder, 'history_cleaned_whole_cnn.csv'), index=False)"
   ]
  },
  {
   "cell_type": "code",
   "execution_count": 5,
   "metadata": {},
   "outputs": [
    {
     "data": {
      "image/png": "[encoded data removed]",
      "text/plain": [
       "<Figure size 432x288 with 1 Axes>"
      ]
     },
     "metadata": {
      "needs_background": "light"
     },
     "output_type": "display_data"
    },
    {
     "data": {
      "image/png": "[encoded data removed]",
      "text/plain": [
       "<Figure size 432x288 with 1 Axes>"
      ]
     },
     "metadata": {
      "needs_background": "light"
     },
     "output_type": "display_data"
    }
   ],
   "source": [
    "import matplotlib.pyplot as plt\n",
    "\n",
    "# Plot training & validation accuracy values\n",
    "plt.plot(history.history['accuracy'])\n",
    "plt.plot(history.history['val_accuracy'])\n",
    "plt.title('Model accuracy')\n",
    "plt.ylabel('Accuracy')\n",
    "plt.xlabel('Epoch')\n",
    "plt.legend(['Train', 'Test'], loc='upper left')\n",
    "plt.show()\n",
    "\n",
    "# Plot training & validation loss values\n",
    "plt.plot(history.history['loss'])\n",
    "plt.plot(history.history['val_loss'])\n",
    "plt.title('Model loss')\n",
    "plt.ylabel('Loss')\n",
    "plt.xlabel('Epoch')\n",
    "plt.legend(['Train', 'Test'], loc='upper left')\n",
    "plt.show()"
   ]
  },
  {
   "cell_type": "code",
   "execution_count": null,
   "metadata": {},
   "outputs": [],
   "source": [
    "Obtain test accuracy"
   ]
  },
  {
   "cell_type": "code",
   "execution_count": 6,
   "metadata": {},
   "outputs": [
    {
     "name": "stdout",
     "output_type": "stream",
     "text": [
      "Found 7320 images belonging to 28 classes.\n",
      "57/57 [==============================] - 70s 1s/step - loss: 2.8130 - accuracy: 0.1945\n",
      "Test loss: 2.8130\n",
      "Test accuracy: 19.45%\n"
     ]
    }
   ],
   "source": [
    "import os\n",
    "import numpy as np\n",
    "from tensorflow.keras import layers\n",
    "from tensorflow.keras.models import Sequential\n",
    "import tensorflow as tf\n",
    "from tensorflow.keras import layers, models\n",
    "from tensorflow.keras.applications import ResNet50V2\n",
    "from tensorflow.keras.preprocessing.image import ImageDataGenerator\n",
    "\n",
    "model = tf.keras.models.load_model(\"resnet_clean_whole.h5\")\n",
    "\n",
    "test_dir = 'test_cluster_cleaned'\n",
    "\n",
    "# Set up the test data generator\n",
    "test_datagen = ImageDataGenerator(rescale=1./255)\n",
    "\n",
    "test_generator = test_datagen.flow_from_directory(\n",
    "    test_dir,\n",
    "    target_size=(224, 224),\n",
    "    batch_size=128,\n",
    "    class_mode='categorical',\n",
    "    shuffle=False\n",
    ")\n",
    "\n",
    "test_loss, test_accuracy = model.evaluate(test_generator, steps=test_generator.samples // test_generator.batch_size)\n",
    "\n",
    "print(f\"Test loss: {test_loss:.4f}\")\n",
    "print(f\"Test accuracy: {test_accuracy*100:.2f}%\")"
   ]
  },
  {
   "cell_type": "code",
   "execution_count": null,
   "metadata": {},
   "outputs": [],
   "source": [
    "Save the output into a output file "
   ]
  },
  {
   "cell_type": "code",
   "execution_count": 8,
   "metadata": {},
   "outputs": [],
   "source": [
    "import csv\n",
    "\n",
    "# Predict on the test data generator\n",
    "y_pred = model.predict(test_generator, steps=test_generator.samples // test_generator.batch_size)\n",
    "\n",
    "# Get the predicted labels with highest probabilities\n",
    "y_pred_labels = np.argmax(y_pred, axis=1)\n",
    "\n",
    "# Get the class labels\n",
    "class_labels = list(test_generator.class_indices.keys())\n",
    "\n",
    "# Get the probabilities of the predicted labels\n",
    "y_pred_probabilities = np.max(y_pred, axis=1)\n",
    "\n",
    "# Get the filenames of the test data\n",
    "filenames = test_generator.filenames\n",
    "\n",
    "# Extract the IDs from the filenames\n",
    "ids = [filename.split(\"/\")[-1].split(\"_\")[-1].split(\".\")[0] for filename in filenames]\n",
    "\n",
    "# Open the CSV file in write mode\n",
    "with open('output_clean_whole_cnn.csv', 'w', newline='') as file:\n",
    "    writer = csv.writer(file)\n",
    "    writer.writerow(['Cell ID', 'Label 1', 'Label 2', 'Label 3', 'Probability 1', 'Probability 2', 'Probability 3', 'Test Accuracy', 'Test Loss'])\n",
    "    \n",
    "    # Loop through the predictions\n",
    "    for i in range(len(y_pred)):\n",
    "        top_3_indices = y_pred[i].argsort()[-3:][::-1]\n",
    "        top_3_labels = [class_labels[j] for j in top_3_indices]\n",
    "        top_3_probabilities = y_pred[i][top_3_indices]\n",
    "        \n",
    "        # Write the row with predictions and the single test accuracy and test loss value\n",
    "        writer.writerow([ids[i], top_3_labels[0], top_3_labels[1], top_3_labels[2], top_3_probabilities[0], top_3_probabilities[1], top_3_probabilities[2], test_accuracy, test_loss])"
   ]
  },
  {
   "cell_type": "code",
   "execution_count": 12,
   "metadata": {},
   "outputs": [
    {
     "name": "stdout",
     "output_type": "stream",
     "text": [
      "['cluster_1/cell_10310.png', 'cluster_1/cell_10367.png', 'cluster_1/cell_10379.png', 'cluster_1/cell_10397.png', 'cluster_1/cell_10445.png']\n"
     ]
    }
   ],
   "source": [
    "# Get the filenames of the test data\n",
    "filenames = test_generator.filenames\n",
    "print(filenames[1:6])"
   ]
  },
  {
   "cell_type": "markdown",
   "metadata": {},
   "source": [
    "# The GRAD CAM - Qualitative evaluation"
   ]
  },
  {
   "cell_type": "code",
   "execution_count": 1,
   "metadata": {},
   "outputs": [],
   "source": [
    "#model.summary()"
   ]
  },
  {
   "cell_type": "code",
   "execution_count": 9,
   "metadata": {},
   "outputs": [
    {
     "data": {
      "image/png": "[encoded data removed]",
      "text/plain": [
       "<PIL.PngImagePlugin.PngImageFile image mode=L size=224x224 at 0x7FE4BC9A3280>"
      ]
     },
     "metadata": {},
     "output_type": "display_data"
    },
    {
     "data": {
      "image/png": "[encoded data removed]",
      "text/plain": [
       "<PIL.PngImagePlugin.PngImageFile image mode=L size=224x224 at 0x7FE4BC9A3460>"
      ]
     },
     "metadata": {},
     "output_type": "display_data"
    }
   ],
   "source": [
    "from PIL import Image\n",
    "from tensorflow.keras.preprocessing.image import ImageDataGenerator\n",
    "from tensorflow.keras.preprocessing import image\n",
    "import cv2\n",
    "%matplotlib inline\n",
    "\n",
    "\n",
    "import numpy as np\n",
    "import tensorflow as tf\n",
    "from tensorflow import keras\n",
    "\n",
    "\n",
    "\n",
    "preprocess_input = keras.applications.xception.preprocess_input\n",
    "decode_predictions = keras.applications.xception.decode_predictions\n",
    "\n",
    "img_size = (224, 224)\n",
    "last_conv_layer_name = \"dense_3\"\n",
    "\n",
    "# The local path to our target image\n",
    "img_path = \"test_cluster_cleaned/cluster_1/cell_2255.png\"\n",
    "img_path2 = \"test_cluster_cleaned/cluster_4/cell_3524.png\"\n",
    "\n",
    "\n",
    "display(Image.open(img_path))\n",
    "display(Image.open(img_path2))"
   ]
  },
  {
   "cell_type": "code",
   "execution_count": 10,
   "metadata": {},
   "outputs": [
    {
     "name": "stdout",
     "output_type": "stream",
     "text": [
      "Predicted class: cluster_7\n"
     ]
    },
    {
     "data": {
      "image/png": "[encoded data removed]",
      "text/plain": [
       "<Figure size 288x288 with 1 Axes>"
      ]
     },
     "metadata": {
      "needs_background": "light"
     },
     "output_type": "display_data"
    },
    {
     "name": "stdout",
     "output_type": "stream",
     "text": [
      "Predicted class: cluster_7\n"
     ]
    },
    {
     "data": {
      "image/png": "[encoded data removed]",
      "text/plain": [
       "<Figure size 288x288 with 1 Axes>"
      ]
     },
     "metadata": {
      "needs_background": "light"
     },
     "output_type": "display_data"
    }
   ],
   "source": [
    "from keras.preprocessing import image\n",
    "from keras.applications.xception import preprocess_input\n",
    "import numpy as np\n",
    "import tensorflow as tf\n",
    "import matplotlib.pyplot as plt\n",
    "\n",
    "# Define function to get last convolutional layer's name\n",
    "def get_last_conv_layer_name(model):\n",
    "    for layer in reversed(model.layers):\n",
    "        if len(layer.output_shape) == 4:\n",
    "            return layer.name\n",
    "    raise ValueError(\"Could not find last convolutional layer in the model.\")\n",
    "\n",
    "# Define function to get image array\n",
    "def get_img_array(img_path, size):\n",
    "    img = image.load_img(img_path, target_size=size)\n",
    "    img_array = image.img_to_array(img)\n",
    "    img_array = np.expand_dims(img_array, axis=0)\n",
    "    return img_array\n",
    "\n",
    "# Define function to generate class activation heatmap\n",
    "def make_gradcam_heatmap(img_array, model, last_conv_layer_name, pred_index=None):\n",
    "    # Create a model that maps the input image to the activations of the last conv layer\n",
    "    last_conv_layer = model.get_layer(last_conv_layer_name)\n",
    "    conv_model = tf.keras.models.Model(model.inputs, last_conv_layer.output)\n",
    "    \n",
    "    # Create a model that maps the activations of the last conv layer to the final class predictions\n",
    "    classifier_input = tf.keras.Input(shape=last_conv_layer.output_shape[1:])\n",
    "    x = classifier_input\n",
    "    for layer in model.layers[layer_index:]:\n",
    "        x = layer(x)\n",
    "    classifier_model = tf.keras.models.Model(classifier_input, x)\n",
    "    \n",
    "    # Get the gradient of the predicted class with respect to the output feature map of the last conv layer\n",
    "    with tf.GradientTape() as tape:\n",
    "        last_conv_layer_output = conv_model(img_array)\n",
    "        tape.watch(last_conv_layer_output)\n",
    "        preds = classifier_model(last_conv_layer_output)\n",
    "        if pred_index is None:\n",
    "            pred_index = tf.argmax(preds[0])\n",
    "        class_channel = preds[:, pred_index]\n",
    "    grads = tape.gradient(class_channel, last_conv_layer_output)\n",
    "    \n",
    "    # Compute the mean intensity of the gradient over each feature map channel\n",
    "    pooled_grads = tf.reduce_mean(grads, axis=(0, 1, 2))\n",
    "    \n",
    "    # Multiply each feature map channel by its corresponding gradient value\n",
    "    last_conv_layer_output = last_conv_layer_output.numpy()[0]\n",
    "    pooled_grads = pooled_grads.numpy()\n",
    "    for i in range(pooled_grads.shape[-1]):\n",
    "        last_conv_layer_output[:, :, i] *= pooled_grads[i]\n",
    "    \n",
    "    # Average the feature map channels to get the heatmap\n",
    "    heatmap = np.mean(last_conv_layer_output, axis=-1)\n",
    "    \n",
    "    # Clip the heatmap between 0 and 1\n",
    "    heatmap = np.clip(heatmap, 0, 1)\n",
    "    \n",
    "    # Return the heatmap\n",
    "    return heatmap\n",
    "\n",
    "# Define image path and size\n",
    "\n",
    "img_size = (224, 224)\n",
    "\n",
    "# Get last convolutional layer's name\n",
    "last_conv_layer_name = get_last_conv_layer_name(model)\n",
    "\n",
    "# Get the index of the last convolutional layer\n",
    "last_conv_layer = model.get_layer(last_conv_layer_name)\n",
    "layer_index = model.layers.index(last_conv_layer)\n",
    "\n",
    "\n",
    "# Prepare image\n",
    "img_array = preprocess_input(get_img_array(img_path, size=img_size))\n",
    "\n",
    "# Print the predicted class label\n",
    "preds = model.predict(img_array)\n",
    "predicted_class = np.argmax(preds)\n",
    "class_labels = list(test_generator.class_indices.keys())\n",
    "print(\"Predicted class:\", class_labels[predicted_class])\n",
    "\n",
    "# Generate class activation heatmap\n",
    "heatmap = make_gradcam_heatmap(img_array, model, last_conv_layer_name)\n",
    "\n",
    "# Display heatmap\n",
    "plt.matshow(heatmap)\n",
    "plt.show()\n",
    "\n",
    "\n",
    "# Prepare image2\n",
    "img_array2 = preprocess_input(get_img_array(img_path2, size=img_size))\n",
    "\n",
    "# Print the predicted class label\n",
    "preds2 = model.predict(img_array2)\n",
    "predicted_class2 = np.argmax(preds2)\n",
    "class_labels = list(test_generator.class_indices.keys())\n",
    "print(\"Predicted class:\", class_labels[predicted_class2])\n",
    "\n",
    "# Generate class activation heatmap\n",
    "heatmap = make_gradcam_heatmap(img_array2, model, last_conv_layer_name)\n",
    "\n",
    "# Display heatmap\n",
    "plt.matshow(heatmap)\n",
    "plt.show()"
   ]
  },
  {
   "cell_type": "code",
   "execution_count": 11,
   "metadata": {},
   "outputs": [
    {
     "data": {
      "image/png": "[encoded data removed]",
      "text/plain": [
       "<PIL.JpegImagePlugin.JpegImageFile image mode=RGB size=224x224 at 0x7FE4527439A0>"
      ]
     },
     "metadata": {},
     "output_type": "display_data"
    }
   ],
   "source": [
    "import matplotlib.pyplot as plt\n",
    "import numpy as np\n",
    "from matplotlib import cm\n",
    "from IPython.display import display\n",
    "\n",
    "def save_and_display_gradcam(img_path, heatmap, cam_path=\"cam.jpg\", alpha=0.4):\n",
    "    # Load the original image\n",
    "    img = keras.preprocessing.image.load_img(img_path)\n",
    "    img = keras.preprocessing.image.img_to_array(img)\n",
    "\n",
    "    # Rescale heatmap to a range 0-255\n",
    "    heatmap = np.uint8(255 * heatmap)\n",
    "\n",
    "    # Use jet colormap to colorize heatmap\n",
    "    jet = cm.get_cmap(\"jet\")\n",
    "\n",
    "    # Use RGB values of the colormap\n",
    "    jet_colors = jet(np.arange(256))[:, :3]\n",
    "    jet_heatmap = jet_colors[heatmap]\n",
    "\n",
    "    # Create an image with RGB colorized heatmap\n",
    "    jet_heatmap = keras.preprocessing.image.array_to_img(jet_heatmap)\n",
    "    jet_heatmap = jet_heatmap.resize((img.shape[1], img.shape[0]))\n",
    "    jet_heatmap = keras.preprocessing.image.img_to_array(jet_heatmap)\n",
    "\n",
    "    # Superimpose the heatmap on original image\n",
    "    superimposed_img = jet_heatmap * alpha + img\n",
    "    superimposed_img = keras.preprocessing.image.array_to_img(superimposed_img)\n",
    "\n",
    "    # Save the superimposed image\n",
    "    superimposed_img.save(cam_path)\n",
    "\n",
    "    # Display Grad CAM\n",
    "    display(Image.open(cam_path))\n",
    "\n",
    "\n",
    "save_and_display_gradcam(img_path, heatmap)"
   ]
  },
  {
   "cell_type": "code",
   "execution_count": 17,
   "metadata": {},
   "outputs": [
    {
     "data": {
      "image/png": "[encoded data removed]",
      "text/plain": [
       "<PIL.JpegImagePlugin.JpegImageFile image mode=RGB size=224x224 at 0x7FDAF0E534C0>"
      ]
     },
     "metadata": {},
     "output_type": "display_data"
    }
   ],
   "source": [
    "save_and_display_gradcam(img_path2, heatmap)"
   ]
  },
  {
   "cell_type": "code",
   "execution_count": null,
   "metadata": {},
   "outputs": [],
   "source": [
    "Resnet raw whole split "
   ]
  },
  {
   "cell_type": "code",
   "execution_count": 1,
   "metadata": {},
   "outputs": [
    {
     "name": "stdout",
     "output_type": "stream",
     "text": [
      "Found 23397 images belonging to 28 classes.\n",
      "Found 5836 images belonging to 28 classes.\n"
     ]
    },
    {
     "name": "stderr",
     "output_type": "stream",
     "text": [
      "2023-05-07 01:15:07.123404: I tensorflow/core/platform/cpu_feature_guard.cc:151] This TensorFlow binary is optimized with oneAPI Deep Neural Network Library (oneDNN) to use the following CPU instructions in performance-critical operations:  AVX2 AVX512F FMA\n",
      "To enable them in other operations, rebuild TensorFlow with the appropriate compiler flags.\n",
      "2023-05-07 01:15:07.747612: I tensorflow/core/common_runtime/gpu/gpu_device.cc:1525] Created device /job:localhost/replica:0/task:0/device:GPU:0 with 22307 MB memory:  -> device: 0, name: NVIDIA GeForce RTX 3090, pci bus id: 0000:3e:00.0, compute capability: 8.6\n"
     ]
    },
    {
     "name": "stdout",
     "output_type": "stream",
     "text": [
      "Downloading data from https://storage.googleapis.com/tensorflow/keras-applications/resnet/resnet50v2_weights_tf_dim_ordering_tf_kernels_notop.h5\n",
      "94674944/94668760 [==============================] - 11s 0us/step\n",
      "94683136/94668760 [==============================] - 11s 0us/step\n",
      "Epoch 1/15\n"
     ]
    },
    {
     "name": "stderr",
     "output_type": "stream",
     "text": [
      "2023-05-07 01:15:34.646157: I tensorflow/stream_executor/cuda/cuda_dnn.cc:366] Loaded cuDNN version 8101\n",
      "2023-05-07 01:15:37.155923: I tensorflow/stream_executor/cuda/cuda_blas.cc:1774] TensorFloat-32 will be used for the matrix multiplication. This will only be logged once.\n"
     ]
    },
    {
     "name": "stdout",
     "output_type": "stream",
     "text": [
      "182/182 [==============================] - 982s 5s/step - loss: 2.9748 - accuracy: 0.1522 - val_loss: 2.8792 - val_accuracy: 0.1703\n",
      "Epoch 2/15\n",
      "182/182 [==============================] - 582s 3s/step - loss: 2.8581 - accuracy: 0.1733 - val_loss: 2.8495 - val_accuracy: 0.1747\n",
      "Epoch 3/15\n",
      "182/182 [==============================] - 577s 3s/step - loss: 2.8151 - accuracy: 0.1891 - val_loss: 2.8212 - val_accuracy: 0.1743\n",
      "Epoch 4/15\n",
      "182/182 [==============================] - 589s 3s/step - loss: 2.8016 - accuracy: 0.1905 - val_loss: 2.8707 - val_accuracy: 0.1708\n",
      "Epoch 5/15\n",
      "182/182 [==============================] - 600s 3s/step - loss: 2.7775 - accuracy: 0.1950 - val_loss: 2.8288 - val_accuracy: 0.1785\n",
      "Epoch 6/15\n",
      "182/182 [==============================] - 566s 3s/step - loss: 2.7615 - accuracy: 0.1999 - val_loss: 2.7989 - val_accuracy: 0.1823\n",
      "Epoch 7/15\n",
      "182/182 [==============================] - 582s 3s/step - loss: 2.7529 - accuracy: 0.1987 - val_loss: 2.8010 - val_accuracy: 0.1852\n",
      "Epoch 8/15\n",
      "182/182 [==============================] - 597s 3s/step - loss: 2.7487 - accuracy: 0.2014 - val_loss: 2.8038 - val_accuracy: 0.1830\n",
      "Epoch 9/15\n",
      "182/182 [==============================] - 579s 3s/step - loss: 2.7408 - accuracy: 0.2074 - val_loss: 2.7590 - val_accuracy: 0.1958\n",
      "Epoch 10/15\n",
      "182/182 [==============================] - 596s 3s/step - loss: 2.7252 - accuracy: 0.2102 - val_loss: 2.7860 - val_accuracy: 0.1816\n",
      "Epoch 11/15\n",
      "182/182 [==============================] - 627s 3s/step - loss: 2.7240 - accuracy: 0.2118 - val_loss: 2.8129 - val_accuracy: 0.1922\n",
      "Epoch 12/15\n",
      "182/182 [==============================] - 623s 3s/step - loss: 2.7225 - accuracy: 0.2108 - val_loss: 2.7915 - val_accuracy: 0.1927\n",
      "Epoch 13/15\n",
      "182/182 [==============================] - 615s 3s/step - loss: 2.7127 - accuracy: 0.2114 - val_loss: 2.7741 - val_accuracy: 0.1917\n",
      "Epoch 14/15\n",
      "182/182 [==============================] - 602s 3s/step - loss: 2.7093 - accuracy: 0.2139 - val_loss: 2.7789 - val_accuracy: 0.1877\n",
      "Epoch 15/15\n",
      "182/182 [==============================] - 648s 4s/step - loss: 2.7031 - accuracy: 0.2148 - val_loss: 2.8124 - val_accuracy: 0.1813\n"
     ]
    },
    {
     "name": "stderr",
     "output_type": "stream",
     "text": [
      "/root/miniconda3/envs/myconda/lib/python3.8/site-packages/keras/engine/functional.py:1410: CustomMaskWarning: Custom mask layers require a config and must override get_config. When loading, the custom mask layer must be passed to the custom_objects argument.\n",
      "  layer_config = serialize_layer_fn(layer)\n"
     ]
    }
   ],
   "source": [
    "import os\n",
    "import pandas as pd\n",
    "import numpy as np\n",
    "from tensorflow.keras import layers\n",
    "from tensorflow.keras.models import Sequential\n",
    "import tensorflow as tf\n",
    "from tensorflow.keras import layers, models\n",
    "from tensorflow.keras.applications import ResNet50V2\n",
    "from tensorflow.keras.preprocessing.image import ImageDataGenerator\n",
    "\n",
    "# Define the custom object ClassToken\n",
    "class ClassToken(layers.Layer):\n",
    "    def __init__(self, **kwargs):\n",
    "        super(ClassToken, self).__init__(**kwargs)\n",
    "\n",
    "    def build(self, input_shape):\n",
    "        self.class_token = self.add_weight(\n",
    "            shape=(1, 1, input_shape[3]),\n",
    "            initializer=tf.keras.initializers.TruncatedNormal(stddev=0.02),\n",
    "            trainable=True,\n",
    "            name=\"class_token\",\n",
    "        )\n",
    "        super(ClassToken, self).build(input_shape)\n",
    "\n",
    "    def call(self, x):\n",
    "        batch_size = tf.shape(x)[0]\n",
    "        # Add a class token\n",
    "        class_token = tf.broadcast_to(self.class_token, [batch_size, 1, 1, tf.shape(self.class_token)[2]])\n",
    "        x = tf.concat([class_token, x], axis=1)\n",
    "        return x\n",
    "\n",
    "train_dir = 'train_cluster_raw'\n",
    "\n",
    "train_datagen = ImageDataGenerator(\n",
    "     rescale=1./255,\n",
    "    validation_split=0.2,\n",
    "    rotation_range=30,\n",
    "    width_shift_range=0.2,\n",
    "    height_shift_range=0.2,\n",
    "    shear_range=0.2,\n",
    "    zoom_range=0.2,\n",
    "    horizontal_flip=True,\n",
    "    vertical_flip=True,\n",
    "    fill_mode='nearest'\n",
    ")\n",
    "\n",
    "train_generator = train_datagen.flow_from_directory(\n",
    "    train_dir,\n",
    "    target_size=(224, 224),\n",
    "    batch_size=128,\n",
    "    class_mode='categorical',\n",
    "    subset='training'\n",
    ")\n",
    "\n",
    "validation_generator = train_datagen.flow_from_directory(\n",
    "    train_dir,\n",
    "    target_size=(224, 224),\n",
    "    batch_size=128,\n",
    "    class_mode='categorical',\n",
    "    subset='validation'\n",
    ")\n",
    "\n",
    "# Load the pre-trained ResNet50V2 model without the top layer (global average pooling and fully connected layers)\n",
    "base_model = ResNet50V2(include_top=False, weights='imagenet', input_shape=(224, 224, 3))\n",
    "\n",
    "# Freeze the top layers\n",
    "for layer in base_model.layers:\n",
    "    layer.trainable = False\n",
    "\n",
    "# Unfreeze the last few convolutional layers and the batch normalization layers\n",
    "for layer in base_model.layers[-15:]:\n",
    "    if not isinstance(layer, layers.BatchNormalization):\n",
    "        layer.trainable = True\n",
    "\n",
    "# Add new top layers for the new dataset\n",
    "x = base_model.output\n",
    "x = layers.GlobalAveragePooling2D()(x)\n",
    "x = layers.Dense(256, activation='relu')(x)\n",
    "predictions = layers.Dense(train_generator.num_classes, activation='softmax')(x)\n",
    "\n",
    "# Create the new model by combining the base model and the top layers\n",
    "model = models.Model(inputs=base_model.input, outputs=predictions)\n",
    "\n",
    "# Compile the model\n",
    "model.compile(optimizer='adam', loss='categorical_crossentropy', metrics=['accuracy'])\n",
    "\n",
    "# Train the model\n",
    "history = model.fit(\n",
    "    train_generator,\n",
    "    steps_per_epoch=train_generator.samples // train_generator.batch_size,\n",
    "    validation_data=validation_generator,\n",
    "    validation_steps=validation_generator.samples // validation_generator.batch_size,\n",
    "    epochs=15\n",
    ")\n",
    "\n",
    "model.save(\"resnet_raw_whole.h5\")"
   ]
  },
  {
   "cell_type": "code",
   "execution_count": 2,
   "metadata": {},
   "outputs": [],
   "source": [
    "# Create the output_csv folder if it doesn't exist\n",
    "output_folder = \"output_Image4_csv\"\n",
    "if not os.path.exists(output_folder):\n",
    "    os.makedirs(output_folder)\n",
    "\n",
    "# Save the training data to a CSV file\n",
    "training_data = pd.DataFrame({\n",
    "    'epoch': np.arange(1, len(history.history['accuracy']) + 1),\n",
    "    'train_accuracy': history.history['accuracy'],\n",
    "    'validation_accuracy': history.history['val_accuracy'],\n",
    "    'loss': history.history['loss'],\n",
    "    'validation_loss': history.history['val_loss']\n",
    "})\n",
    "training_data.to_csv(os.path.join(output_folder, 'history_raw_whole_cnn.csv'), index=False)"
   ]
  },
  {
   "cell_type": "code",
   "execution_count": 3,
   "metadata": {},
   "outputs": [
    {
     "data": {
      "image/png": "[encoded data removed]",
      "text/plain": [
       "<Figure size 432x288 with 1 Axes>"
      ]
     },
     "metadata": {
      "needs_background": "light"
     },
     "output_type": "display_data"
    },
    {
     "data": {
      "image/png": "[encoded data removed]",
      "text/plain": [
       "<Figure size 432x288 with 1 Axes>"
      ]
     },
     "metadata": {
      "needs_background": "light"
     },
     "output_type": "display_data"
    }
   ],
   "source": [
    "import matplotlib.pyplot as plt\n",
    "\n",
    "# Plot training & validation accuracy values\n",
    "plt.plot(history.history['accuracy'])\n",
    "plt.plot(history.history['val_accuracy'])\n",
    "plt.title('Model accuracy')\n",
    "plt.ylabel('Accuracy')\n",
    "plt.xlabel('Epoch')\n",
    "plt.legend(['Train', 'Test'], loc='upper left')\n",
    "plt.show()\n",
    "\n",
    "# Plot training & validation loss values\n",
    "plt.plot(history.history['loss'])\n",
    "plt.plot(history.history['val_loss'])\n",
    "plt.title('Model loss')\n",
    "plt.ylabel('Loss')\n",
    "plt.xlabel('Epoch')\n",
    "plt.legend(['Train', 'Test'], loc='upper left')\n",
    "plt.show()"
   ]
  },
  {
   "cell_type": "markdown",
   "metadata": {},
   "source": [
    "Obtain test accuracy "
   ]
  },
  {
   "cell_type": "code",
   "execution_count": 4,
   "metadata": {},
   "outputs": [
    {
     "name": "stdout",
     "output_type": "stream",
     "text": [
      "Found 7320 images belonging to 28 classes.\n",
      "57/57 [==============================] - 76s 1s/step - loss: 2.7775 - accuracy: 0.1967\n",
      "Test loss: 2.7775\n",
      "Test accuracy: 19.67%\n"
     ]
    }
   ],
   "source": [
    "import os\n",
    "import numpy as np\n",
    "from tensorflow.keras import layers\n",
    "from tensorflow.keras.models import Sequential\n",
    "import tensorflow as tf\n",
    "from tensorflow.keras import layers, models\n",
    "from tensorflow.keras.applications import ResNet50V2\n",
    "from tensorflow.keras.preprocessing.image import ImageDataGenerator\n",
    "\n",
    "model = tf.keras.models.load_model(\"resnet_raw_whole.h5\")\n",
    "\n",
    "test_dir = 'test_cluster_raw'\n",
    "\n",
    "# Set up the test data generator\n",
    "test_datagen = ImageDataGenerator(rescale=1./255)\n",
    "\n",
    "test_generator = test_datagen.flow_from_directory(\n",
    "    test_dir,\n",
    "    target_size=(224, 224),\n",
    "    batch_size=128,\n",
    "    class_mode='categorical',\n",
    "    shuffle=False\n",
    ")\n",
    "\n",
    "test_loss, test_accuracy = model.evaluate(test_generator, steps=test_generator.samples // test_generator.batch_size)\n",
    "\n",
    "print(f\"Test loss: {test_loss:.4f}\")\n",
    "print(f\"Test accuracy: {test_accuracy*100:.2f}%\")"
   ]
  },
  {
   "cell_type": "code",
   "execution_count": 5,
   "metadata": {},
   "outputs": [],
   "source": [
    "import csv\n",
    "\n",
    "# Predict on the test data generator\n",
    "y_pred = model.predict(test_generator, steps=test_generator.samples // test_generator.batch_size)\n",
    "\n",
    "# Get the predicted labels with highest probabilities\n",
    "y_pred_labels = np.argmax(y_pred, axis=1)\n",
    "\n",
    "# Get the class labels\n",
    "class_labels = list(test_generator.class_indices.keys())\n",
    "\n",
    "# Get the probabilities of the predicted labels\n",
    "y_pred_probabilities = np.max(y_pred, axis=1)\n",
    "\n",
    "# Get the filenames of the test data\n",
    "filenames = test_generator.filenames\n",
    "\n",
    "# Extract the IDs from the filenames\n",
    "ids = [filename.split(\"/\")[-1].split(\"_\")[-1].split(\".\")[0] for filename in filenames]\n",
    "\n",
    "# Open the CSV file in write mode\n",
    "with open('output_raw_whole_cnn.csv', 'w', newline='') as file:\n",
    "    writer = csv.writer(file)\n",
    "    writer.writerow(['Cell ID', 'Label 1', 'Label 2', 'Label 3', 'Probability 1', 'Probability 2', 'Probability 3', 'Test Accuracy', 'Test Loss'])\n",
    "    \n",
    "    # Loop through the predictions\n",
    "    for i in range(len(y_pred)):\n",
    "        top_3_indices = y_pred[i].argsort()[-3:][::-1]\n",
    "        top_3_labels = [class_labels[j] for j in top_3_indices]\n",
    "        top_3_probabilities = y_pred[i][top_3_indices]\n",
    "        \n",
    "        # Write the row with predictions and the single test accuracy and test loss value\n",
    "        writer.writerow([ids[i], top_3_labels[0], top_3_labels[1], top_3_labels[2], top_3_probabilities[0], top_3_probabilities[1], top_3_probabilities[2], test_accuracy, test_loss])"
   ]
  },
  {
   "cell_type": "code",
   "execution_count": null,
   "metadata": {},
   "outputs": [],
   "source": [
    "from PIL import Image\n",
    "from tensorflow.keras.preprocessing.image import ImageDataGenerator\n",
    "from tensorflow.keras.preprocessing import image\n",
    "import cv2\n",
    "%matplotlib inline\n",
    "\n",
    "\n",
    "import numpy as np\n",
    "import tensorflow as tf\n",
    "from tensorflow import keras\n",
    "\n",
    "preprocess_input = keras.applications.xception.preprocess_input\n",
    "decode_predictions = keras.applications.xception.decode_predictions\n",
    "\n",
    "img_size = (224, 224)\n",
    "last_conv_layer_name = \"dense_3\"\n",
    "\n",
    "# The local path to our target image\n",
    "img_path = \"test_cluster_raw/cluster_1/cell_2255.png\"\n",
    "img_path2 = \"test_cluster_raw/cluster_4/cell_3524.png\"\n",
    "\n",
    "\n",
    "display(Image.open(img_path))\n",
    "display(Image.open(img_path2))"
   ]
  },
  {
   "cell_type": "code",
   "execution_count": null,
   "metadata": {},
   "outputs": [],
   "source": [
    "from keras.preprocessing import image\n",
    "from keras.applications.xception import preprocess_input\n",
    "import numpy as np\n",
    "import tensorflow as tf\n",
    "import matplotlib.pyplot as plt\n",
    "\n",
    "# Define function to get last convolutional layer's name\n",
    "def get_last_conv_layer_name(model):\n",
    "    for layer in reversed(model.layers):\n",
    "        if len(layer.output_shape) == 4:\n",
    "            return layer.name\n",
    "    raise ValueError(\"Could not find last convolutional layer in the model.\")\n",
    "\n",
    "# Define function to get image array\n",
    "def get_img_array(img_path, size):\n",
    "    img = image.load_img(img_path, target_size=size)\n",
    "    img_array = image.img_to_array(img)\n",
    "    img_array = np.expand_dims(img_array, axis=0)\n",
    "    return img_array\n",
    "\n",
    "# Define function to generate class activation heatmap\n",
    "def make_gradcam_heatmap(img_array, model, last_conv_layer_name, pred_index=None):\n",
    "    # Create a model that maps the input image to the activations of the last conv layer\n",
    "    last_conv_layer = model.get_layer(last_conv_layer_name)\n",
    "    conv_model = tf.keras.models.Model(model.inputs, last_conv_layer.output)\n",
    "    \n",
    "    # Create a model that maps the activations of the last conv layer to the final class predictions\n",
    "    classifier_input = tf.keras.Input(shape=last_conv_layer.output_shape[1:])\n",
    "    x = classifier_input\n",
    "    for layer in model.layers[layer_index:]:\n",
    "        x = layer(x)\n",
    "    classifier_model = tf.keras.models.Model(classifier_input, x)\n",
    "    \n",
    "    # Get the gradient of the predicted class with respect to the output feature map of the last conv layer\n",
    "    with tf.GradientTape() as tape:\n",
    "        last_conv_layer_output = conv_model(img_array)\n",
    "        tape.watch(last_conv_layer_output)\n",
    "        preds = classifier_model(last_conv_layer_output)\n",
    "        if pred_index is None:\n",
    "            pred_index = tf.argmax(preds[0])\n",
    "        class_channel = preds[:, pred_index]\n",
    "    grads = tape.gradient(class_channel, last_conv_layer_output)\n",
    "    \n",
    "    # Compute the mean intensity of the gradient over each feature map channel\n",
    "    pooled_grads = tf.reduce_mean(grads, axis=(0, 1, 2))\n",
    "    \n",
    "    # Multiply each feature map channel by its corresponding gradient value\n",
    "    last_conv_layer_output = last_conv_layer_output.numpy()[0]\n",
    "    pooled_grads = pooled_grads.numpy()\n",
    "    for i in range(pooled_grads.shape[-1]):\n",
    "        last_conv_layer_output[:, :, i] *= pooled_grads[i]\n",
    "    \n",
    "    # Average the feature map channels to get the heatmap\n",
    "    heatmap = np.mean(last_conv_layer_output, axis=-1)\n",
    "    \n",
    "    # Clip the heatmap between 0 and 1\n",
    "    heatmap = np.clip(heatmap, 0, 1)\n",
    "    \n",
    "    # Return the heatmap\n",
    "    return heatmap\n",
    "\n",
    "# Define image path and size\n",
    "\n",
    "img_size = (224, 224)\n",
    "\n",
    "# Get last convolutional layer's name\n",
    "last_conv_layer_name = get_last_conv_layer_name(model)\n",
    "\n",
    "# Get the index of the last convolutional layer\n",
    "last_conv_layer = model.get_layer(last_conv_layer_name)\n",
    "layer_index = model.layers.index(last_conv_layer)\n",
    "\n",
    "\n",
    "# Prepare image\n",
    "img_array = preprocess_input(get_img_array(img_path, size=img_size))\n",
    "\n",
    "# Print the predicted class label\n",
    "preds = model.predict(img_array)\n",
    "predicted_class = np.argmax(preds)\n",
    "class_labels = list(test_generator.class_indices.keys())\n",
    "print(\"Predicted class:\", class_labels[predicted_class])\n",
    "\n",
    "# Generate class activation heatmap\n",
    "heatmap = make_gradcam_heatmap(img_array, model, last_conv_layer_name)\n",
    "\n",
    "# Display heatmap\n",
    "plt.matshow(heatmap)\n",
    "plt.show()\n",
    "\n",
    "\n",
    "# Prepare image2\n",
    "img_array2 = preprocess_input(get_img_array(img_path2, size=img_size))\n",
    "\n",
    "# Print the predicted class label\n",
    "preds2 = model.predict(img_array2)\n",
    "predicted_class2 = np.argmax(preds2)\n",
    "class_labels = list(test_generator.class_indices.keys())\n",
    "print(\"Predicted class:\", class_labels[predicted_class2])\n",
    "\n",
    "# Generate class activation heatmap\n",
    "heatmap = make_gradcam_heatmap(img_array2, model, last_conv_layer_name)\n",
    "\n",
    "# Display heatmap\n",
    "plt.matshow(heatmap)\n",
    "plt.show()"
   ]
  },
  {
   "cell_type": "code",
   "execution_count": null,
   "metadata": {},
   "outputs": [],
   "source": [
    "import matplotlib.pyplot as plt\n",
    "import numpy as np\n",
    "from matplotlib import cm\n",
    "from IPython.display import display\n",
    "\n",
    "def save_and_display_gradcam(img_path, heatmap, cam_path=\"cam.jpg\", alpha=0.4):\n",
    "    # Load the original image\n",
    "    img = keras.preprocessing.image.load_img(img_path)\n",
    "    img = keras.preprocessing.image.img_to_array(img)\n",
    "\n",
    "    # Rescale heatmap to a range 0-255\n",
    "    heatmap = np.uint8(255 * heatmap)\n",
    "\n",
    "    # Use jet colormap to colorize heatmap\n",
    "    jet = cm.get_cmap(\"jet\")\n",
    "\n",
    "    # Use RGB values of the colormap\n",
    "    jet_colors = jet(np.arange(256))[:, :3]\n",
    "    jet_heatmap = jet_colors[heatmap]\n",
    "\n",
    "    # Create an image with RGB colorized heatmap\n",
    "    jet_heatmap = keras.preprocessing.image.array_to_img(jet_heatmap)\n",
    "    jet_heatmap = jet_heatmap.resize((img.shape[1], img.shape[0]))\n",
    "    jet_heatmap = keras.preprocessing.image.img_to_array(jet_heatmap)\n",
    "\n",
    "    # Superimpose the heatmap on original image\n",
    "    superimposed_img = jet_heatmap * alpha + img\n",
    "    superimposed_img = keras.preprocessing.image.array_to_img(superimposed_img)\n",
    "\n",
    "    # Save the superimposed image\n",
    "    superimposed_img.save(cam_path)\n",
    "\n",
    "    # Display Grad CAM\n",
    "    display(Image.open(cam_path))\n",
    "\n",
    "\n",
    "save_and_display_gradcam(img_path, heatmap)"
   ]
  },
  {
   "cell_type": "code",
   "execution_count": null,
   "metadata": {},
   "outputs": [],
   "source": [
    "save_and_display_gradcam(img_path2, heatmap)"
   ]
  }
 ],
 "metadata": {
  "colab": {
   "provenance": []
  },
  "kernelspec": {
   "display_name": "myconda",
   "language": "python",
   "name": "myconda"
  },
  "language_info": {
   "codemirror_mode": {
    "name": "ipython",
    "version": 3
   },
   "file_extension": ".py",
   "mimetype": "text/x-python",
   "name": "python",
   "nbconvert_exporter": "python",
   "pygments_lexer": "ipython3",
   "version": "3.8.12"
  }
 },
 "nbformat": 4,
 "nbformat_minor": 4
}
